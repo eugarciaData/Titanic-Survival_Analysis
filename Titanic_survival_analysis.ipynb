{
 "cells": [
  {
   "cell_type": "markdown",
   "id": "2b4ae785",
   "metadata": {
    "papermill": {
     "duration": 0.013462,
     "end_time": "2025-03-07T19:13:20.615721",
     "exception": false,
     "start_time": "2025-03-07T19:13:20.602259",
     "status": "completed"
    },
    "tags": []
   },
   "source": [
    "# 1. Importación"
   ]
  },
  {
   "cell_type": "code",
   "execution_count": 1,
   "id": "9c598dde",
   "metadata": {
    "_cell_guid": "b1076dfc-b9ad-4769-8c92-a6c4dae69d19",
    "_uuid": "8f2839f25d086af736a60e9eeb907d3b93b6e0e5",
    "execution": {
     "iopub.execute_input": "2025-03-07T19:13:20.642860Z",
     "iopub.status.busy": "2025-03-07T19:13:20.642465Z",
     "iopub.status.idle": "2025-03-07T19:13:23.905005Z",
     "shell.execute_reply": "2025-03-07T19:13:23.903712Z"
    },
    "papermill": {
     "duration": 3.278376,
     "end_time": "2025-03-07T19:13:23.907056",
     "exception": false,
     "start_time": "2025-03-07T19:13:20.628680",
     "status": "completed"
    },
    "tags": []
   },
   "outputs": [],
   "source": [
    "#data analysis\n",
    "\n",
    "import pandas as pd\n",
    "import numpy as np\n",
    "\n",
    "# visualization\n",
    "import matplotlib.pyplot as plt\n",
    "import seaborn as sns\n",
    "\n",
    "#machine learning\n",
    "from sklearn.ensemble import RandomForestClassifier"
   ]
  },
  {
   "cell_type": "markdown",
   "id": "536865d5",
   "metadata": {
    "papermill": {
     "duration": 0.012581,
     "end_time": "2025-03-07T19:13:23.932380",
     "exception": false,
     "start_time": "2025-03-07T19:13:23.919799",
     "status": "completed"
    },
    "tags": []
   },
   "source": [
    "# 2. Carga de los datos"
   ]
  },
  {
   "cell_type": "code",
   "execution_count": 2,
   "id": "bba1513c",
   "metadata": {
    "execution": {
     "iopub.execute_input": "2025-03-07T19:13:23.959051Z",
     "iopub.status.busy": "2025-03-07T19:13:23.958430Z",
     "iopub.status.idle": "2025-03-07T19:13:23.985154Z",
     "shell.execute_reply": "2025-03-07T19:13:23.984084Z"
    },
    "papermill": {
     "duration": 0.042215,
     "end_time": "2025-03-07T19:13:23.987173",
     "exception": false,
     "start_time": "2025-03-07T19:13:23.944958",
     "status": "completed"
    },
    "tags": []
   },
   "outputs": [],
   "source": [
    "train_df = pd.read_csv('../input/titanic/train.csv')\n",
    "test_df = pd.read_csv('../input/titanic/test.csv')"
   ]
  },
  {
   "cell_type": "markdown",
   "id": "2493dbf1",
   "metadata": {
    "papermill": {
     "duration": 0.012506,
     "end_time": "2025-03-07T19:13:24.012770",
     "exception": false,
     "start_time": "2025-03-07T19:13:24.000264",
     "status": "completed"
    },
    "tags": []
   },
   "source": [
    "# 3. Calidad de datos"
   ]
  },
  {
   "cell_type": "markdown",
   "id": "ae8ac3ef",
   "metadata": {
    "papermill": {
     "duration": 0.012244,
     "end_time": "2025-03-07T19:13:24.037330",
     "exception": false,
     "start_time": "2025-03-07T19:13:24.025086",
     "status": "completed"
    },
    "tags": []
   },
   "source": [
    "- Unificamos **train** y **test** para realizar la corrección de datos.\n",
    "- Aplicamos correcciones en los **tipos de datos**, eliminamos **duplicados** y tratamos los valores **nulos**.\n",
    "- Volvemos a separar **train** y **test**, eliminando las columnas que ya no son necesarias."
   ]
  },
  {
   "cell_type": "code",
   "execution_count": 3,
   "id": "25e0eb6e",
   "metadata": {
    "execution": {
     "iopub.execute_input": "2025-03-07T19:13:24.063462Z",
     "iopub.status.busy": "2025-03-07T19:13:24.063085Z",
     "iopub.status.idle": "2025-03-07T19:13:24.072764Z",
     "shell.execute_reply": "2025-03-07T19:13:24.071497Z"
    },
    "papermill": {
     "duration": 0.02471,
     "end_time": "2025-03-07T19:13:24.074570",
     "exception": false,
     "start_time": "2025-03-07T19:13:24.049860",
     "status": "completed"
    },
    "tags": []
   },
   "outputs": [],
   "source": [
    "train_df[\"is_train\"] = 1\n",
    "test_df[\"is_train\"] = 0"
   ]
  },
  {
   "cell_type": "code",
   "execution_count": 4,
   "id": "8f83c893",
   "metadata": {
    "execution": {
     "iopub.execute_input": "2025-03-07T19:13:24.100686Z",
     "iopub.status.busy": "2025-03-07T19:13:24.100305Z",
     "iopub.status.idle": "2025-03-07T19:13:24.110888Z",
     "shell.execute_reply": "2025-03-07T19:13:24.109834Z"
    },
    "papermill": {
     "duration": 0.025403,
     "end_time": "2025-03-07T19:13:24.112434",
     "exception": false,
     "start_time": "2025-03-07T19:13:24.087031",
     "status": "completed"
    },
    "tags": []
   },
   "outputs": [],
   "source": [
    "df = pd.concat([train_df, test_df], ignore_index=True)"
   ]
  },
  {
   "cell_type": "markdown",
   "id": "b969ee6a",
   "metadata": {
    "papermill": {
     "duration": 0.012068,
     "end_time": "2025-03-07T19:13:24.137204",
     "exception": false,
     "start_time": "2025-03-07T19:13:24.125136",
     "status": "completed"
    },
    "tags": []
   },
   "source": [
    "## 3.1. Tipos de datos: Corrección"
   ]
  },
  {
   "cell_type": "markdown",
   "id": "7e3caf99",
   "metadata": {
    "papermill": {
     "duration": 0.012225,
     "end_time": "2025-03-07T19:13:24.161863",
     "exception": false,
     "start_time": "2025-03-07T19:13:24.149638",
     "status": "completed"
    },
    "tags": []
   },
   "source": [
    "- Cambiamos el tipo de dato `Survived` a un Int64"
   ]
  },
  {
   "cell_type": "code",
   "execution_count": 5,
   "id": "d25b8979",
   "metadata": {
    "execution": {
     "iopub.execute_input": "2025-03-07T19:13:24.188036Z",
     "iopub.status.busy": "2025-03-07T19:13:24.187607Z",
     "iopub.status.idle": "2025-03-07T19:13:24.215336Z",
     "shell.execute_reply": "2025-03-07T19:13:24.213975Z"
    },
    "papermill": {
     "duration": 0.04308,
     "end_time": "2025-03-07T19:13:24.217306",
     "exception": false,
     "start_time": "2025-03-07T19:13:24.174226",
     "status": "completed"
    },
    "tags": []
   },
   "outputs": [
    {
     "name": "stdout",
     "output_type": "stream",
     "text": [
      "<class 'pandas.core.frame.DataFrame'>\n",
      "RangeIndex: 1309 entries, 0 to 1308\n",
      "Data columns (total 13 columns):\n",
      " #   Column       Non-Null Count  Dtype  \n",
      "---  ------       --------------  -----  \n",
      " 0   PassengerId  1309 non-null   int64  \n",
      " 1   Survived     891 non-null    float64\n",
      " 2   Pclass       1309 non-null   int64  \n",
      " 3   Name         1309 non-null   object \n",
      " 4   Sex          1309 non-null   object \n",
      " 5   Age          1046 non-null   float64\n",
      " 6   SibSp        1309 non-null   int64  \n",
      " 7   Parch        1309 non-null   int64  \n",
      " 8   Ticket       1309 non-null   object \n",
      " 9   Fare         1308 non-null   float64\n",
      " 10  Cabin        295 non-null    object \n",
      " 11  Embarked     1307 non-null   object \n",
      " 12  is_train     1309 non-null   int64  \n",
      "dtypes: float64(3), int64(5), object(5)\n",
      "memory usage: 133.1+ KB\n"
     ]
    }
   ],
   "source": [
    "df.info()"
   ]
  },
  {
   "cell_type": "code",
   "execution_count": 6,
   "id": "ba3d66af",
   "metadata": {
    "execution": {
     "iopub.execute_input": "2025-03-07T19:13:24.244605Z",
     "iopub.status.busy": "2025-03-07T19:13:24.244216Z",
     "iopub.status.idle": "2025-03-07T19:13:24.252594Z",
     "shell.execute_reply": "2025-03-07T19:13:24.251227Z"
    },
    "papermill": {
     "duration": 0.024265,
     "end_time": "2025-03-07T19:13:24.254481",
     "exception": false,
     "start_time": "2025-03-07T19:13:24.230216",
     "status": "completed"
    },
    "tags": []
   },
   "outputs": [],
   "source": [
    "df[\"Survived\"] = df[\"Survived\"].round().astype(\"Int64\")"
   ]
  },
  {
   "cell_type": "markdown",
   "id": "ede45e2d",
   "metadata": {
    "papermill": {
     "duration": 0.012137,
     "end_time": "2025-03-07T19:13:24.279315",
     "exception": false,
     "start_time": "2025-03-07T19:13:24.267178",
     "status": "completed"
    },
    "tags": []
   },
   "source": [
    "### 3.1.1. Duplicados"
   ]
  },
  {
   "cell_type": "markdown",
   "id": "90c1b5bb",
   "metadata": {
    "papermill": {
     "duration": 0.012235,
     "end_time": "2025-03-07T19:13:24.303876",
     "exception": false,
     "start_time": "2025-03-07T19:13:24.291641",
     "status": "completed"
    },
    "tags": []
   },
   "source": [
    "- No se han encontrado duplicados"
   ]
  },
  {
   "cell_type": "code",
   "execution_count": 7,
   "id": "dafe1a38",
   "metadata": {
    "execution": {
     "iopub.execute_input": "2025-03-07T19:13:24.329935Z",
     "iopub.status.busy": "2025-03-07T19:13:24.329532Z",
     "iopub.status.idle": "2025-03-07T19:13:24.340052Z",
     "shell.execute_reply": "2025-03-07T19:13:24.338894Z"
    },
    "papermill": {
     "duration": 0.025698,
     "end_time": "2025-03-07T19:13:24.341978",
     "exception": false,
     "start_time": "2025-03-07T19:13:24.316280",
     "status": "completed"
    },
    "tags": []
   },
   "outputs": [
    {
     "data": {
      "text/plain": [
       "0"
      ]
     },
     "execution_count": 7,
     "metadata": {},
     "output_type": "execute_result"
    }
   ],
   "source": [
    "df.duplicated().sum()"
   ]
  },
  {
   "cell_type": "markdown",
   "id": "95fe1988",
   "metadata": {
    "execution": {
     "iopub.execute_input": "2025-03-06T10:36:43.435809Z",
     "iopub.status.busy": "2025-03-06T10:36:43.435379Z",
     "iopub.status.idle": "2025-03-06T10:36:43.440588Z",
     "shell.execute_reply": "2025-03-06T10:36:43.439049Z",
     "shell.execute_reply.started": "2025-03-06T10:36:43.435773Z"
    },
    "papermill": {
     "duration": 0.012141,
     "end_time": "2025-03-07T19:13:24.366969",
     "exception": false,
     "start_time": "2025-03-07T19:13:24.354828",
     "status": "completed"
    },
    "tags": []
   },
   "source": [
    "### 3.1.2. Nulos"
   ]
  },
  {
   "cell_type": "markdown",
   "id": "8ce65e61",
   "metadata": {
    "papermill": {
     "duration": 0.013087,
     "end_time": "2025-03-07T19:13:24.392671",
     "exception": false,
     "start_time": "2025-03-07T19:13:24.379584",
     "status": "completed"
    },
    "tags": []
   },
   "source": [
    "- **Cabin** tiene demasiados valores nulos, por lo que se _eliminó_ la columna.\n",
    "- Para **Age**, utilizamos la _mediana_ por grupo, considerando las variables `Pclass`, `Sex` y `Embarked`.\n",
    "- Rellenamos los valores nulos de **Embarked** con el _valor más frecuente_.\n",
    "- Los valores nulos de **Fare** se rellenaron con la _mediana_.\n",
    "- **Survived** es la variable objetivo, por lo que _no se realizaron cambios_."
   ]
  },
  {
   "cell_type": "code",
   "execution_count": 8,
   "id": "4ce721f2",
   "metadata": {
    "execution": {
     "iopub.execute_input": "2025-03-07T19:13:24.419080Z",
     "iopub.status.busy": "2025-03-07T19:13:24.418672Z",
     "iopub.status.idle": "2025-03-07T19:13:24.428321Z",
     "shell.execute_reply": "2025-03-07T19:13:24.427332Z"
    },
    "papermill": {
     "duration": 0.024874,
     "end_time": "2025-03-07T19:13:24.430032",
     "exception": false,
     "start_time": "2025-03-07T19:13:24.405158",
     "status": "completed"
    },
    "tags": []
   },
   "outputs": [
    {
     "data": {
      "text/plain": [
       "Cabin          1014\n",
       "Survived        418\n",
       "Age             263\n",
       "Embarked          2\n",
       "Fare              1\n",
       "PassengerId       0\n",
       "Pclass            0\n",
       "Name              0\n",
       "Sex               0\n",
       "SibSp             0\n",
       "Parch             0\n",
       "Ticket            0\n",
       "is_train          0\n",
       "dtype: int64"
      ]
     },
     "execution_count": 8,
     "metadata": {},
     "output_type": "execute_result"
    }
   ],
   "source": [
    "df.isna().sum().sort_values(ascending = False)"
   ]
  },
  {
   "cell_type": "code",
   "execution_count": 9,
   "id": "72e2738d",
   "metadata": {
    "execution": {
     "iopub.execute_input": "2025-03-07T19:13:24.457519Z",
     "iopub.status.busy": "2025-03-07T19:13:24.457125Z",
     "iopub.status.idle": "2025-03-07T19:13:24.466041Z",
     "shell.execute_reply": "2025-03-07T19:13:24.464953Z"
    },
    "papermill": {
     "duration": 0.024469,
     "end_time": "2025-03-07T19:13:24.467773",
     "exception": false,
     "start_time": "2025-03-07T19:13:24.443304",
     "status": "completed"
    },
    "tags": []
   },
   "outputs": [],
   "source": [
    "df.drop(columns=[\"Cabin\"], inplace=True)"
   ]
  },
  {
   "cell_type": "code",
   "execution_count": 10,
   "id": "a3b8c3e7",
   "metadata": {
    "execution": {
     "iopub.execute_input": "2025-03-07T19:13:24.494723Z",
     "iopub.status.busy": "2025-03-07T19:13:24.494374Z",
     "iopub.status.idle": "2025-03-07T19:13:24.500024Z",
     "shell.execute_reply": "2025-03-07T19:13:24.499093Z"
    },
    "papermill": {
     "duration": 0.02089,
     "end_time": "2025-03-07T19:13:24.501726",
     "exception": false,
     "start_time": "2025-03-07T19:13:24.480836",
     "status": "completed"
    },
    "tags": []
   },
   "outputs": [],
   "source": [
    "df[\"Embarked\"] = df[\"Embarked\"].fillna(df[\"Embarked\"].mode()[0])"
   ]
  },
  {
   "cell_type": "code",
   "execution_count": 11,
   "id": "0d5f0372",
   "metadata": {
    "execution": {
     "iopub.execute_input": "2025-03-07T19:13:24.528934Z",
     "iopub.status.busy": "2025-03-07T19:13:24.528598Z",
     "iopub.status.idle": "2025-03-07T19:13:24.533808Z",
     "shell.execute_reply": "2025-03-07T19:13:24.532722Z"
    },
    "papermill": {
     "duration": 0.020346,
     "end_time": "2025-03-07T19:13:24.535419",
     "exception": false,
     "start_time": "2025-03-07T19:13:24.515073",
     "status": "completed"
    },
    "tags": []
   },
   "outputs": [],
   "source": [
    "df[\"Fare\"] = df[\"Fare\"].fillna(df[\"Fare\"].median())"
   ]
  },
  {
   "cell_type": "code",
   "execution_count": 12,
   "id": "f7789c03",
   "metadata": {
    "execution": {
     "iopub.execute_input": "2025-03-07T19:13:24.562201Z",
     "iopub.status.busy": "2025-03-07T19:13:24.561819Z",
     "iopub.status.idle": "2025-03-07T19:13:24.577999Z",
     "shell.execute_reply": "2025-03-07T19:13:24.576959Z"
    },
    "papermill": {
     "duration": 0.031626,
     "end_time": "2025-03-07T19:13:24.579869",
     "exception": false,
     "start_time": "2025-03-07T19:13:24.548243",
     "status": "completed"
    },
    "tags": []
   },
   "outputs": [],
   "source": [
    "df['Age'] = df.groupby(['Pclass', 'Sex', 'Embarked'])['Age'].transform(lambda x: x.fillna(x.median()))"
   ]
  },
  {
   "cell_type": "markdown",
   "id": "4e4e99b6",
   "metadata": {
    "papermill": {
     "duration": 0.012655,
     "end_time": "2025-03-07T19:13:24.605381",
     "exception": false,
     "start_time": "2025-03-07T19:13:24.592726",
     "status": "completed"
    },
    "tags": []
   },
   "source": [
    "## 3.2 Separamos train y test"
   ]
  },
  {
   "cell_type": "code",
   "execution_count": 13,
   "id": "2ee11189",
   "metadata": {
    "execution": {
     "iopub.execute_input": "2025-03-07T19:13:24.632527Z",
     "iopub.status.busy": "2025-03-07T19:13:24.632122Z",
     "iopub.status.idle": "2025-03-07T19:13:24.639636Z",
     "shell.execute_reply": "2025-03-07T19:13:24.638800Z"
    },
    "papermill": {
     "duration": 0.023121,
     "end_time": "2025-03-07T19:13:24.641353",
     "exception": false,
     "start_time": "2025-03-07T19:13:24.618232",
     "status": "completed"
    },
    "tags": []
   },
   "outputs": [],
   "source": [
    "train_df = df[df[\"is_train\"] == 1]\n",
    "test_df = df[df[\"is_train\"] == 0]"
   ]
  },
  {
   "cell_type": "markdown",
   "id": "69ff569f",
   "metadata": {
    "papermill": {
     "duration": 0.012741,
     "end_time": "2025-03-07T19:13:24.667105",
     "exception": false,
     "start_time": "2025-03-07T19:13:24.654364",
     "status": "completed"
    },
    "tags": []
   },
   "source": [
    "## 3.3 Eliminamos columnas que ya no nos sirven"
   ]
  },
  {
   "cell_type": "code",
   "execution_count": 14,
   "id": "5fd2f4d3",
   "metadata": {
    "execution": {
     "iopub.execute_input": "2025-03-07T19:13:24.694094Z",
     "iopub.status.busy": "2025-03-07T19:13:24.693705Z",
     "iopub.status.idle": "2025-03-07T19:13:24.699022Z",
     "shell.execute_reply": "2025-03-07T19:13:24.698087Z"
    },
    "papermill": {
     "duration": 0.020589,
     "end_time": "2025-03-07T19:13:24.700626",
     "exception": false,
     "start_time": "2025-03-07T19:13:24.680037",
     "status": "completed"
    },
    "tags": []
   },
   "outputs": [],
   "source": [
    "test_df = test_df.drop(columns=[\"Survived\"], errors=\"ignore\")"
   ]
  },
  {
   "cell_type": "code",
   "execution_count": 15,
   "id": "2eea5624",
   "metadata": {
    "execution": {
     "iopub.execute_input": "2025-03-07T19:13:24.728028Z",
     "iopub.status.busy": "2025-03-07T19:13:24.727653Z",
     "iopub.status.idle": "2025-03-07T19:13:24.734045Z",
     "shell.execute_reply": "2025-03-07T19:13:24.733033Z"
    },
    "papermill": {
     "duration": 0.021889,
     "end_time": "2025-03-07T19:13:24.735818",
     "exception": false,
     "start_time": "2025-03-07T19:13:24.713929",
     "status": "completed"
    },
    "tags": []
   },
   "outputs": [],
   "source": [
    "train_df = train_df.drop(columns=[\"is_train\"])\n",
    "test_df = test_df.drop(columns=[\"is_train\"])"
   ]
  },
  {
   "cell_type": "markdown",
   "id": "ef431283",
   "metadata": {
    "papermill": {
     "duration": 0.012341,
     "end_time": "2025-03-07T19:13:24.761448",
     "exception": false,
     "start_time": "2025-03-07T19:13:24.749107",
     "status": "completed"
    },
    "tags": []
   },
   "source": [
    "### 3.3.1 Comprobación"
   ]
  },
  {
   "cell_type": "code",
   "execution_count": 16,
   "id": "12f5cad2",
   "metadata": {
    "execution": {
     "iopub.execute_input": "2025-03-07T19:13:24.788377Z",
     "iopub.status.busy": "2025-03-07T19:13:24.787937Z",
     "iopub.status.idle": "2025-03-07T19:13:24.804978Z",
     "shell.execute_reply": "2025-03-07T19:13:24.803583Z"
    },
    "papermill": {
     "duration": 0.032572,
     "end_time": "2025-03-07T19:13:24.806753",
     "exception": false,
     "start_time": "2025-03-07T19:13:24.774181",
     "status": "completed"
    },
    "tags": []
   },
   "outputs": [
    {
     "name": "stdout",
     "output_type": "stream",
     "text": [
      "<class 'pandas.core.frame.DataFrame'>\n",
      "Index: 891 entries, 0 to 890\n",
      "Data columns (total 11 columns):\n",
      " #   Column       Non-Null Count  Dtype  \n",
      "---  ------       --------------  -----  \n",
      " 0   PassengerId  891 non-null    int64  \n",
      " 1   Survived     891 non-null    Int64  \n",
      " 2   Pclass       891 non-null    int64  \n",
      " 3   Name         891 non-null    object \n",
      " 4   Sex          891 non-null    object \n",
      " 5   Age          891 non-null    float64\n",
      " 6   SibSp        891 non-null    int64  \n",
      " 7   Parch        891 non-null    int64  \n",
      " 8   Ticket       891 non-null    object \n",
      " 9   Fare         891 non-null    float64\n",
      " 10  Embarked     891 non-null    object \n",
      "dtypes: Int64(1), float64(2), int64(4), object(4)\n",
      "memory usage: 84.4+ KB\n",
      "__ __ __ __ __ __ __ __ __ __ __ __ __ __ __ \n",
      "<class 'pandas.core.frame.DataFrame'>\n",
      "Index: 418 entries, 891 to 1308\n",
      "Data columns (total 10 columns):\n",
      " #   Column       Non-Null Count  Dtype  \n",
      "---  ------       --------------  -----  \n",
      " 0   PassengerId  418 non-null    int64  \n",
      " 1   Pclass       418 non-null    int64  \n",
      " 2   Name         418 non-null    object \n",
      " 3   Sex          418 non-null    object \n",
      " 4   Age          418 non-null    float64\n",
      " 5   SibSp        418 non-null    int64  \n",
      " 6   Parch        418 non-null    int64  \n",
      " 7   Ticket       418 non-null    object \n",
      " 8   Fare         418 non-null    float64\n",
      " 9   Embarked     418 non-null    object \n",
      "dtypes: float64(2), int64(4), object(4)\n",
      "memory usage: 35.9+ KB\n"
     ]
    }
   ],
   "source": [
    "train_df.info()\n",
    "print('__ '*15)\n",
    "test_df.info()"
   ]
  },
  {
   "cell_type": "markdown",
   "id": "6115b708",
   "metadata": {
    "papermill": {
     "duration": 0.012711,
     "end_time": "2025-03-07T19:13:24.832355",
     "exception": false,
     "start_time": "2025-03-07T19:13:24.819644",
     "status": "completed"
    },
    "tags": []
   },
   "source": [
    "# 4. EDA"
   ]
  },
  {
   "cell_type": "markdown",
   "id": "94734b04",
   "metadata": {
    "papermill": {
     "duration": 0.012497,
     "end_time": "2025-03-07T19:13:24.857795",
     "exception": false,
     "start_time": "2025-03-07T19:13:24.845298",
     "status": "completed"
    },
    "tags": []
   },
   "source": [
    "### Distribución de los valores\n",
    "  - El **38.38%** de los pasajeros sobrevivieron (`Survived` = 1), mientras que el **61.62%** no lo hicieron, lo que indica una tasa de supervivencia relativamente baja.\n",
    "\n",
    "  - La media de la clase de los pasajeros es **2.31** (`Pclass`), lo que sugiere que la mayoría de los pasajeros viajaron en la **segunda** o **tercera** clase. Solo una pequeña parte de los pasajeros viajaron en **primera clase**.\n",
    "\n",
    "  - La edad promedio de los pasajeros es de **29.1 años**, con una mediana de **26 años**, lo que indica que la mayoría de los pasajeros eran adultos jóvenes. El rango de edades es amplio, desde **0.42** años hasta **80 años**, con una desviación estándar de **13.37 años**.\n",
    "\n",
    "  - La tarifa promedio es de **32.2**, pero con una alta desviación estándar de **49.69**, lo que refleja una gran variabilidad en los precios de los boletos. Las tarifas van desde **0** hasta **512.33**, lo que sugiere que algunos pasajeros pagaron tarifas muy bajas, mientras que otros pagaron por boletos de lujo."
   ]
  },
  {
   "cell_type": "code",
   "execution_count": 17,
   "id": "9c9357e1",
   "metadata": {
    "execution": {
     "iopub.execute_input": "2025-03-07T19:13:24.884741Z",
     "iopub.status.busy": "2025-03-07T19:13:24.884338Z",
     "iopub.status.idle": "2025-03-07T19:13:24.925295Z",
     "shell.execute_reply": "2025-03-07T19:13:24.923963Z"
    },
    "papermill": {
     "duration": 0.056504,
     "end_time": "2025-03-07T19:13:24.927178",
     "exception": false,
     "start_time": "2025-03-07T19:13:24.870674",
     "status": "completed"
    },
    "tags": []
   },
   "outputs": [
    {
     "data": {
      "text/html": [
       "<div>\n",
       "<style scoped>\n",
       "    .dataframe tbody tr th:only-of-type {\n",
       "        vertical-align: middle;\n",
       "    }\n",
       "\n",
       "    .dataframe tbody tr th {\n",
       "        vertical-align: top;\n",
       "    }\n",
       "\n",
       "    .dataframe thead th {\n",
       "        text-align: right;\n",
       "    }\n",
       "</style>\n",
       "<table border=\"1\" class=\"dataframe\">\n",
       "  <thead>\n",
       "    <tr style=\"text-align: right;\">\n",
       "      <th></th>\n",
       "      <th>PassengerId</th>\n",
       "      <th>Survived</th>\n",
       "      <th>Pclass</th>\n",
       "      <th>Age</th>\n",
       "      <th>SibSp</th>\n",
       "      <th>Parch</th>\n",
       "      <th>Fare</th>\n",
       "    </tr>\n",
       "  </thead>\n",
       "  <tbody>\n",
       "    <tr>\n",
       "      <th>count</th>\n",
       "      <td>891.000000</td>\n",
       "      <td>891.0</td>\n",
       "      <td>891.000000</td>\n",
       "      <td>891.000000</td>\n",
       "      <td>891.000000</td>\n",
       "      <td>891.000000</td>\n",
       "      <td>891.000000</td>\n",
       "    </tr>\n",
       "    <tr>\n",
       "      <th>mean</th>\n",
       "      <td>446.000000</td>\n",
       "      <td>0.383838</td>\n",
       "      <td>2.308642</td>\n",
       "      <td>29.101762</td>\n",
       "      <td>0.523008</td>\n",
       "      <td>0.381594</td>\n",
       "      <td>32.204208</td>\n",
       "    </tr>\n",
       "    <tr>\n",
       "      <th>std</th>\n",
       "      <td>257.353842</td>\n",
       "      <td>0.486592</td>\n",
       "      <td>0.836071</td>\n",
       "      <td>13.374112</td>\n",
       "      <td>1.102743</td>\n",
       "      <td>0.806057</td>\n",
       "      <td>49.693429</td>\n",
       "    </tr>\n",
       "    <tr>\n",
       "      <th>min</th>\n",
       "      <td>1.000000</td>\n",
       "      <td>0.0</td>\n",
       "      <td>1.000000</td>\n",
       "      <td>0.420000</td>\n",
       "      <td>0.000000</td>\n",
       "      <td>0.000000</td>\n",
       "      <td>0.000000</td>\n",
       "    </tr>\n",
       "    <tr>\n",
       "      <th>25%</th>\n",
       "      <td>223.500000</td>\n",
       "      <td>0.0</td>\n",
       "      <td>2.000000</td>\n",
       "      <td>22.000000</td>\n",
       "      <td>0.000000</td>\n",
       "      <td>0.000000</td>\n",
       "      <td>7.910400</td>\n",
       "    </tr>\n",
       "    <tr>\n",
       "      <th>50%</th>\n",
       "      <td>446.000000</td>\n",
       "      <td>0.0</td>\n",
       "      <td>3.000000</td>\n",
       "      <td>26.000000</td>\n",
       "      <td>0.000000</td>\n",
       "      <td>0.000000</td>\n",
       "      <td>14.454200</td>\n",
       "    </tr>\n",
       "    <tr>\n",
       "      <th>75%</th>\n",
       "      <td>668.500000</td>\n",
       "      <td>1.0</td>\n",
       "      <td>3.000000</td>\n",
       "      <td>36.000000</td>\n",
       "      <td>1.000000</td>\n",
       "      <td>0.000000</td>\n",
       "      <td>31.000000</td>\n",
       "    </tr>\n",
       "    <tr>\n",
       "      <th>max</th>\n",
       "      <td>891.000000</td>\n",
       "      <td>1.0</td>\n",
       "      <td>3.000000</td>\n",
       "      <td>80.000000</td>\n",
       "      <td>8.000000</td>\n",
       "      <td>6.000000</td>\n",
       "      <td>512.329200</td>\n",
       "    </tr>\n",
       "  </tbody>\n",
       "</table>\n",
       "</div>"
      ],
      "text/plain": [
       "       PassengerId  Survived      Pclass         Age       SibSp       Parch  \\\n",
       "count   891.000000     891.0  891.000000  891.000000  891.000000  891.000000   \n",
       "mean    446.000000  0.383838    2.308642   29.101762    0.523008    0.381594   \n",
       "std     257.353842  0.486592    0.836071   13.374112    1.102743    0.806057   \n",
       "min       1.000000       0.0    1.000000    0.420000    0.000000    0.000000   \n",
       "25%     223.500000       0.0    2.000000   22.000000    0.000000    0.000000   \n",
       "50%     446.000000       0.0    3.000000   26.000000    0.000000    0.000000   \n",
       "75%     668.500000       1.0    3.000000   36.000000    1.000000    0.000000   \n",
       "max     891.000000       1.0    3.000000   80.000000    8.000000    6.000000   \n",
       "\n",
       "             Fare  \n",
       "count  891.000000  \n",
       "mean    32.204208  \n",
       "std     49.693429  \n",
       "min      0.000000  \n",
       "25%      7.910400  \n",
       "50%     14.454200  \n",
       "75%     31.000000  \n",
       "max    512.329200  "
      ]
     },
     "execution_count": 17,
     "metadata": {},
     "output_type": "execute_result"
    }
   ],
   "source": [
    "train_df.describe()"
   ]
  },
  {
   "cell_type": "markdown",
   "id": "25756e3f",
   "metadata": {
    "papermill": {
     "duration": 0.072408,
     "end_time": "2025-03-07T19:13:25.015729",
     "exception": false,
     "start_time": "2025-03-07T19:13:24.943321",
     "status": "completed"
    },
    "tags": []
   },
   "source": [
    "## 4.1. Análisis mediante funciones pivotantes"
   ]
  },
  {
   "cell_type": "markdown",
   "id": "347d3c7f",
   "metadata": {
    "papermill": {
     "duration": 0.012825,
     "end_time": "2025-03-07T19:13:25.042034",
     "exception": false,
     "start_time": "2025-03-07T19:13:25.029209",
     "status": "completed"
    },
    "tags": []
   },
   "source": [
    "- **Clase de Ticket**: Los pasajeros con ticket de **clase superior** tuvieron una tasa de supervivencia más alta.\n",
    "  \n",
    "- **Sexo**: Las pasajeras **femeninas** (`Sex = female`) tuvieron un alto porcentaje de supervivencia, alcanzando el **74%**.\n",
    "\n",
    "- **Hermanos/Esposos a bordo**: Las personas que tenían **hermanos/as o esposos/as** a bordo tuvieron una tasa de supervivencia del **53%**.\n",
    "\n",
    "- **Padres/Hijos a bordo**: Las personas con **3 padres/hijos** a bordo fueron las que más sobrevivieron, con una tasa de supervivencia del **60%**."
   ]
  },
  {
   "cell_type": "code",
   "execution_count": 18,
   "id": "5c714853",
   "metadata": {
    "execution": {
     "iopub.execute_input": "2025-03-07T19:13:25.069938Z",
     "iopub.status.busy": "2025-03-07T19:13:25.069586Z",
     "iopub.status.idle": "2025-03-07T19:13:25.082971Z",
     "shell.execute_reply": "2025-03-07T19:13:25.082087Z"
    },
    "papermill": {
     "duration": 0.029125,
     "end_time": "2025-03-07T19:13:25.084539",
     "exception": false,
     "start_time": "2025-03-07T19:13:25.055414",
     "status": "completed"
    },
    "tags": []
   },
   "outputs": [
    {
     "data": {
      "text/html": [
       "<div>\n",
       "<style scoped>\n",
       "    .dataframe tbody tr th:only-of-type {\n",
       "        vertical-align: middle;\n",
       "    }\n",
       "\n",
       "    .dataframe tbody tr th {\n",
       "        vertical-align: top;\n",
       "    }\n",
       "\n",
       "    .dataframe thead th {\n",
       "        text-align: right;\n",
       "    }\n",
       "</style>\n",
       "<table border=\"1\" class=\"dataframe\">\n",
       "  <thead>\n",
       "    <tr style=\"text-align: right;\">\n",
       "      <th></th>\n",
       "      <th>Pclass</th>\n",
       "      <th>Survived</th>\n",
       "    </tr>\n",
       "  </thead>\n",
       "  <tbody>\n",
       "    <tr>\n",
       "      <th>0</th>\n",
       "      <td>1</td>\n",
       "      <td>0.62963</td>\n",
       "    </tr>\n",
       "    <tr>\n",
       "      <th>1</th>\n",
       "      <td>2</td>\n",
       "      <td>0.472826</td>\n",
       "    </tr>\n",
       "    <tr>\n",
       "      <th>2</th>\n",
       "      <td>3</td>\n",
       "      <td>0.242363</td>\n",
       "    </tr>\n",
       "  </tbody>\n",
       "</table>\n",
       "</div>"
      ],
      "text/plain": [
       "   Pclass  Survived\n",
       "0       1   0.62963\n",
       "1       2  0.472826\n",
       "2       3  0.242363"
      ]
     },
     "execution_count": 18,
     "metadata": {},
     "output_type": "execute_result"
    }
   ],
   "source": [
    "train_df[['Pclass', 'Survived']].groupby(['Pclass'], as_index=False).mean().sort_values(by='Survived', ascending=False)"
   ]
  },
  {
   "cell_type": "code",
   "execution_count": 19,
   "id": "8eb456bf",
   "metadata": {
    "execution": {
     "iopub.execute_input": "2025-03-07T19:13:25.112520Z",
     "iopub.status.busy": "2025-03-07T19:13:25.112170Z",
     "iopub.status.idle": "2025-03-07T19:13:25.123847Z",
     "shell.execute_reply": "2025-03-07T19:13:25.122837Z"
    },
    "papermill": {
     "duration": 0.027557,
     "end_time": "2025-03-07T19:13:25.125455",
     "exception": false,
     "start_time": "2025-03-07T19:13:25.097898",
     "status": "completed"
    },
    "tags": []
   },
   "outputs": [
    {
     "data": {
      "text/html": [
       "<div>\n",
       "<style scoped>\n",
       "    .dataframe tbody tr th:only-of-type {\n",
       "        vertical-align: middle;\n",
       "    }\n",
       "\n",
       "    .dataframe tbody tr th {\n",
       "        vertical-align: top;\n",
       "    }\n",
       "\n",
       "    .dataframe thead th {\n",
       "        text-align: right;\n",
       "    }\n",
       "</style>\n",
       "<table border=\"1\" class=\"dataframe\">\n",
       "  <thead>\n",
       "    <tr style=\"text-align: right;\">\n",
       "      <th></th>\n",
       "      <th>Sex</th>\n",
       "      <th>Survived</th>\n",
       "    </tr>\n",
       "  </thead>\n",
       "  <tbody>\n",
       "    <tr>\n",
       "      <th>0</th>\n",
       "      <td>female</td>\n",
       "      <td>0.742038</td>\n",
       "    </tr>\n",
       "    <tr>\n",
       "      <th>1</th>\n",
       "      <td>male</td>\n",
       "      <td>0.188908</td>\n",
       "    </tr>\n",
       "  </tbody>\n",
       "</table>\n",
       "</div>"
      ],
      "text/plain": [
       "      Sex  Survived\n",
       "0  female  0.742038\n",
       "1    male  0.188908"
      ]
     },
     "execution_count": 19,
     "metadata": {},
     "output_type": "execute_result"
    }
   ],
   "source": [
    "train_df[['Sex', 'Survived']].groupby(['Sex'], as_index=False).mean().sort_values(by='Survived', ascending=False)"
   ]
  },
  {
   "cell_type": "code",
   "execution_count": 20,
   "id": "e2b85cdd",
   "metadata": {
    "execution": {
     "iopub.execute_input": "2025-03-07T19:13:25.153561Z",
     "iopub.status.busy": "2025-03-07T19:13:25.153236Z",
     "iopub.status.idle": "2025-03-07T19:13:25.166102Z",
     "shell.execute_reply": "2025-03-07T19:13:25.164936Z"
    },
    "papermill": {
     "duration": 0.028787,
     "end_time": "2025-03-07T19:13:25.167677",
     "exception": false,
     "start_time": "2025-03-07T19:13:25.138890",
     "status": "completed"
    },
    "tags": []
   },
   "outputs": [
    {
     "data": {
      "text/html": [
       "<div>\n",
       "<style scoped>\n",
       "    .dataframe tbody tr th:only-of-type {\n",
       "        vertical-align: middle;\n",
       "    }\n",
       "\n",
       "    .dataframe tbody tr th {\n",
       "        vertical-align: top;\n",
       "    }\n",
       "\n",
       "    .dataframe thead th {\n",
       "        text-align: right;\n",
       "    }\n",
       "</style>\n",
       "<table border=\"1\" class=\"dataframe\">\n",
       "  <thead>\n",
       "    <tr style=\"text-align: right;\">\n",
       "      <th></th>\n",
       "      <th>SibSp</th>\n",
       "      <th>Survived</th>\n",
       "    </tr>\n",
       "  </thead>\n",
       "  <tbody>\n",
       "    <tr>\n",
       "      <th>1</th>\n",
       "      <td>1</td>\n",
       "      <td>0.535885</td>\n",
       "    </tr>\n",
       "    <tr>\n",
       "      <th>2</th>\n",
       "      <td>2</td>\n",
       "      <td>0.464286</td>\n",
       "    </tr>\n",
       "    <tr>\n",
       "      <th>0</th>\n",
       "      <td>0</td>\n",
       "      <td>0.345395</td>\n",
       "    </tr>\n",
       "    <tr>\n",
       "      <th>3</th>\n",
       "      <td>3</td>\n",
       "      <td>0.25</td>\n",
       "    </tr>\n",
       "    <tr>\n",
       "      <th>4</th>\n",
       "      <td>4</td>\n",
       "      <td>0.166667</td>\n",
       "    </tr>\n",
       "    <tr>\n",
       "      <th>5</th>\n",
       "      <td>5</td>\n",
       "      <td>0.0</td>\n",
       "    </tr>\n",
       "    <tr>\n",
       "      <th>6</th>\n",
       "      <td>8</td>\n",
       "      <td>0.0</td>\n",
       "    </tr>\n",
       "  </tbody>\n",
       "</table>\n",
       "</div>"
      ],
      "text/plain": [
       "   SibSp  Survived\n",
       "1      1  0.535885\n",
       "2      2  0.464286\n",
       "0      0  0.345395\n",
       "3      3      0.25\n",
       "4      4  0.166667\n",
       "5      5       0.0\n",
       "6      8       0.0"
      ]
     },
     "execution_count": 20,
     "metadata": {},
     "output_type": "execute_result"
    }
   ],
   "source": [
    "train_df[['SibSp', 'Survived']].groupby(['SibSp'], as_index=False).mean().sort_values(by='Survived', ascending=False)"
   ]
  },
  {
   "cell_type": "code",
   "execution_count": 21,
   "id": "c7f8d0f3",
   "metadata": {
    "execution": {
     "iopub.execute_input": "2025-03-07T19:13:25.196432Z",
     "iopub.status.busy": "2025-03-07T19:13:25.196086Z",
     "iopub.status.idle": "2025-03-07T19:13:25.207951Z",
     "shell.execute_reply": "2025-03-07T19:13:25.206931Z"
    },
    "papermill": {
     "duration": 0.028389,
     "end_time": "2025-03-07T19:13:25.209617",
     "exception": false,
     "start_time": "2025-03-07T19:13:25.181228",
     "status": "completed"
    },
    "tags": []
   },
   "outputs": [
    {
     "data": {
      "text/html": [
       "<div>\n",
       "<style scoped>\n",
       "    .dataframe tbody tr th:only-of-type {\n",
       "        vertical-align: middle;\n",
       "    }\n",
       "\n",
       "    .dataframe tbody tr th {\n",
       "        vertical-align: top;\n",
       "    }\n",
       "\n",
       "    .dataframe thead th {\n",
       "        text-align: right;\n",
       "    }\n",
       "</style>\n",
       "<table border=\"1\" class=\"dataframe\">\n",
       "  <thead>\n",
       "    <tr style=\"text-align: right;\">\n",
       "      <th></th>\n",
       "      <th>Parch</th>\n",
       "      <th>Survived</th>\n",
       "    </tr>\n",
       "  </thead>\n",
       "  <tbody>\n",
       "    <tr>\n",
       "      <th>3</th>\n",
       "      <td>3</td>\n",
       "      <td>0.6</td>\n",
       "    </tr>\n",
       "    <tr>\n",
       "      <th>1</th>\n",
       "      <td>1</td>\n",
       "      <td>0.550847</td>\n",
       "    </tr>\n",
       "    <tr>\n",
       "      <th>2</th>\n",
       "      <td>2</td>\n",
       "      <td>0.5</td>\n",
       "    </tr>\n",
       "    <tr>\n",
       "      <th>0</th>\n",
       "      <td>0</td>\n",
       "      <td>0.343658</td>\n",
       "    </tr>\n",
       "    <tr>\n",
       "      <th>5</th>\n",
       "      <td>5</td>\n",
       "      <td>0.2</td>\n",
       "    </tr>\n",
       "    <tr>\n",
       "      <th>4</th>\n",
       "      <td>4</td>\n",
       "      <td>0.0</td>\n",
       "    </tr>\n",
       "    <tr>\n",
       "      <th>6</th>\n",
       "      <td>6</td>\n",
       "      <td>0.0</td>\n",
       "    </tr>\n",
       "  </tbody>\n",
       "</table>\n",
       "</div>"
      ],
      "text/plain": [
       "   Parch  Survived\n",
       "3      3       0.6\n",
       "1      1  0.550847\n",
       "2      2       0.5\n",
       "0      0  0.343658\n",
       "5      5       0.2\n",
       "4      4       0.0\n",
       "6      6       0.0"
      ]
     },
     "execution_count": 21,
     "metadata": {},
     "output_type": "execute_result"
    }
   ],
   "source": [
    "train_df[[\"Parch\", \"Survived\"]].groupby(['Parch'], as_index=False).mean().sort_values(by='Survived', ascending=False)"
   ]
  },
  {
   "cell_type": "markdown",
   "id": "33178bc0",
   "metadata": {
    "papermill": {
     "duration": 0.0139,
     "end_time": "2025-03-07T19:13:25.237363",
     "exception": false,
     "start_time": "2025-03-07T19:13:25.223463",
     "status": "completed"
    },
    "tags": []
   },
   "source": [
    "## 4.2. Análisis mediante visualización de los datos"
   ]
  },
  {
   "cell_type": "code",
   "execution_count": 22,
   "id": "e2f40fa3",
   "metadata": {
    "execution": {
     "iopub.execute_input": "2025-03-07T19:13:25.265946Z",
     "iopub.status.busy": "2025-03-07T19:13:25.265607Z",
     "iopub.status.idle": "2025-03-07T19:13:25.580917Z",
     "shell.execute_reply": "2025-03-07T19:13:25.579744Z"
    },
    "papermill": {
     "duration": 0.331491,
     "end_time": "2025-03-07T19:13:25.582600",
     "exception": false,
     "start_time": "2025-03-07T19:13:25.251109",
     "status": "completed"
    },
    "tags": []
   },
   "outputs": [
    {
     "data": {
      "image/png": "[encoded data removed]",
      "text/plain": [
       "<Figure size 640x480 with 1 Axes>"
      ]
     },
     "metadata": {},
     "output_type": "display_data"
    }
   ],
   "source": [
    "sns.barplot(x='Pclass', y='Survived', data=train_df)\n",
    "plt.grid(True, which='both', axis='y', linestyle='--', linewidth=0.3)"
   ]
  },
  {
   "cell_type": "code",
   "execution_count": 23,
   "id": "6fc663be",
   "metadata": {
    "execution": {
     "iopub.execute_input": "2025-03-07T19:13:25.612208Z",
     "iopub.status.busy": "2025-03-07T19:13:25.611824Z",
     "iopub.status.idle": "2025-03-07T19:13:25.815281Z",
     "shell.execute_reply": "2025-03-07T19:13:25.814110Z"
    },
    "papermill": {
     "duration": 0.220298,
     "end_time": "2025-03-07T19:13:25.817138",
     "exception": false,
     "start_time": "2025-03-07T19:13:25.596840",
     "status": "completed"
    },
    "tags": []
   },
   "outputs": [
    {
     "data": {
      "image/png": "[encoded data removed]",
      "text/plain": [
       "<Figure size 640x480 with 1 Axes>"
      ]
     },
     "metadata": {},
     "output_type": "display_data"
    }
   ],
   "source": [
    "sns.barplot(x='Sex',y='Survived', data=train_df)\n",
    "plt.grid(True, which='both', axis='y', linestyle='--', linewidth=0.3)"
   ]
  },
  {
   "cell_type": "code",
   "execution_count": 24,
   "id": "90579e50",
   "metadata": {
    "execution": {
     "iopub.execute_input": "2025-03-07T19:13:25.848484Z",
     "iopub.status.busy": "2025-03-07T19:13:25.848131Z",
     "iopub.status.idle": "2025-03-07T19:13:26.268248Z",
     "shell.execute_reply": "2025-03-07T19:13:26.266884Z"
    },
    "papermill": {
     "duration": 0.437911,
     "end_time": "2025-03-07T19:13:26.270008",
     "exception": false,
     "start_time": "2025-03-07T19:13:25.832097",
     "status": "completed"
    },
    "tags": []
   },
   "outputs": [
    {
     "data": {
      "image/png": "[encoded data removed]",
      "text/plain": [
       "<Figure size 640x480 with 1 Axes>"
      ]
     },
     "metadata": {},
     "output_type": "display_data"
    }
   ],
   "source": [
    "sns.barplot(x='SibSp',y='Survived',data=train_df)\n",
    "plt.grid(True, which='both', axis='y', linestyle='--', linewidth=0.3)"
   ]
  },
  {
   "cell_type": "markdown",
   "id": "be38dbac",
   "metadata": {
    "papermill": {
     "duration": 0.015637,
     "end_time": "2025-03-07T19:13:26.300796",
     "exception": false,
     "start_time": "2025-03-07T19:13:26.285159",
     "status": "completed"
    },
    "tags": []
   },
   "source": [
    "# 5. Transformación de datos"
   ]
  },
  {
   "cell_type": "markdown",
   "id": "fbf85c0c",
   "metadata": {
    "papermill": {
     "duration": 0.026367,
     "end_time": "2025-03-07T19:13:26.355574",
     "exception": false,
     "start_time": "2025-03-07T19:13:26.329207",
     "status": "completed"
    },
    "tags": []
   },
   "source": [
    "- **Eliminación de variables**: Eliminamos las variables que no aportan al modelo, en este caso **Name** y **Ticket**.\n",
    "  \n",
    "- **Transformación de 'Sex'**: Utilizamos **Label Encoding** para convertir la variable **'Sex'** en valores numéricos.\n",
    "\n",
    "- **Transformación de 'Embarked'**: Aplicamos **Ordinal Encoding** a la variable **'Embarked'**.\n",
    "\n",
    "- **Transformación de 'Fare'**: Simplificamos la variable **'Fare'** usando **Ordinal Encoding**."
   ]
  },
  {
   "cell_type": "code",
   "execution_count": 25,
   "id": "98ed8d12",
   "metadata": {
    "execution": {
     "iopub.execute_input": "2025-03-07T19:13:26.391966Z",
     "iopub.status.busy": "2025-03-07T19:13:26.391572Z",
     "iopub.status.idle": "2025-03-07T19:13:26.398475Z",
     "shell.execute_reply": "2025-03-07T19:13:26.397346Z"
    },
    "papermill": {
     "duration": 0.025921,
     "end_time": "2025-03-07T19:13:26.400463",
     "exception": false,
     "start_time": "2025-03-07T19:13:26.374542",
     "status": "completed"
    },
    "tags": []
   },
   "outputs": [],
   "source": [
    "train_df = train_df.drop(columns=['Name', 'Ticket'])\n",
    "test_df = test_df.drop(columns=['Name', 'Ticket'])"
   ]
  },
  {
   "cell_type": "code",
   "execution_count": 26,
   "id": "dd9f21f6",
   "metadata": {
    "execution": {
     "iopub.execute_input": "2025-03-07T19:13:26.463709Z",
     "iopub.status.busy": "2025-03-07T19:13:26.463264Z",
     "iopub.status.idle": "2025-03-07T19:13:26.473559Z",
     "shell.execute_reply": "2025-03-07T19:13:26.472505Z"
    },
    "papermill": {
     "duration": 0.044646,
     "end_time": "2025-03-07T19:13:26.475512",
     "exception": false,
     "start_time": "2025-03-07T19:13:26.430866",
     "status": "completed"
    },
    "tags": []
   },
   "outputs": [],
   "source": [
    "train_df['Sex'] = train_df['Sex'].map({'male': 0, 'female': 1})\n",
    "test_df['Sex'] = test_df['Sex'].map({'male': 0, 'female': 1})"
   ]
  },
  {
   "cell_type": "code",
   "execution_count": 27,
   "id": "b057efe1",
   "metadata": {
    "execution": {
     "iopub.execute_input": "2025-03-07T19:13:26.519656Z",
     "iopub.status.busy": "2025-03-07T19:13:26.519158Z",
     "iopub.status.idle": "2025-03-07T19:13:26.529764Z",
     "shell.execute_reply": "2025-03-07T19:13:26.528242Z"
    },
    "papermill": {
     "duration": 0.036121,
     "end_time": "2025-03-07T19:13:26.532370",
     "exception": false,
     "start_time": "2025-03-07T19:13:26.496249",
     "status": "completed"
    },
    "tags": []
   },
   "outputs": [],
   "source": [
    "train_df['Embarked'] = train_df['Embarked'].map({'S': 0, 'C': 1, 'Q': 2}).astype(int)\n",
    "test_df['Embarked'] = test_df['Embarked'].map({'S': 0, 'C': 1, 'Q': 2}).astype(int)"
   ]
  },
  {
   "cell_type": "code",
   "execution_count": 28,
   "id": "ddb0463d",
   "metadata": {
    "execution": {
     "iopub.execute_input": "2025-03-07T19:13:26.588606Z",
     "iopub.status.busy": "2025-03-07T19:13:26.588086Z",
     "iopub.status.idle": "2025-03-07T19:13:26.619323Z",
     "shell.execute_reply": "2025-03-07T19:13:26.618228Z"
    },
    "papermill": {
     "duration": 0.059529,
     "end_time": "2025-03-07T19:13:26.621555",
     "exception": false,
     "start_time": "2025-03-07T19:13:26.562026",
     "status": "completed"
    },
    "tags": []
   },
   "outputs": [
    {
     "data": {
      "text/html": [
       "<div>\n",
       "<style scoped>\n",
       "    .dataframe tbody tr th:only-of-type {\n",
       "        vertical-align: middle;\n",
       "    }\n",
       "\n",
       "    .dataframe tbody tr th {\n",
       "        vertical-align: top;\n",
       "    }\n",
       "\n",
       "    .dataframe thead th {\n",
       "        text-align: right;\n",
       "    }\n",
       "</style>\n",
       "<table border=\"1\" class=\"dataframe\">\n",
       "  <thead>\n",
       "    <tr style=\"text-align: right;\">\n",
       "      <th></th>\n",
       "      <th>PassengerId</th>\n",
       "      <th>Survived</th>\n",
       "      <th>Pclass</th>\n",
       "      <th>Sex</th>\n",
       "      <th>Age</th>\n",
       "      <th>SibSp</th>\n",
       "      <th>Parch</th>\n",
       "      <th>Fare</th>\n",
       "      <th>Embarked</th>\n",
       "    </tr>\n",
       "  </thead>\n",
       "  <tbody>\n",
       "    <tr>\n",
       "      <th>0</th>\n",
       "      <td>1</td>\n",
       "      <td>0</td>\n",
       "      <td>3</td>\n",
       "      <td>0</td>\n",
       "      <td>22.0</td>\n",
       "      <td>1</td>\n",
       "      <td>0</td>\n",
       "      <td>0</td>\n",
       "      <td>0</td>\n",
       "    </tr>\n",
       "    <tr>\n",
       "      <th>1</th>\n",
       "      <td>2</td>\n",
       "      <td>1</td>\n",
       "      <td>1</td>\n",
       "      <td>1</td>\n",
       "      <td>38.0</td>\n",
       "      <td>1</td>\n",
       "      <td>0</td>\n",
       "      <td>3</td>\n",
       "      <td>1</td>\n",
       "    </tr>\n",
       "    <tr>\n",
       "      <th>2</th>\n",
       "      <td>3</td>\n",
       "      <td>1</td>\n",
       "      <td>3</td>\n",
       "      <td>1</td>\n",
       "      <td>26.0</td>\n",
       "      <td>0</td>\n",
       "      <td>0</td>\n",
       "      <td>1</td>\n",
       "      <td>0</td>\n",
       "    </tr>\n",
       "    <tr>\n",
       "      <th>3</th>\n",
       "      <td>4</td>\n",
       "      <td>1</td>\n",
       "      <td>1</td>\n",
       "      <td>1</td>\n",
       "      <td>35.0</td>\n",
       "      <td>1</td>\n",
       "      <td>0</td>\n",
       "      <td>3</td>\n",
       "      <td>0</td>\n",
       "    </tr>\n",
       "    <tr>\n",
       "      <th>4</th>\n",
       "      <td>5</td>\n",
       "      <td>0</td>\n",
       "      <td>3</td>\n",
       "      <td>0</td>\n",
       "      <td>35.0</td>\n",
       "      <td>0</td>\n",
       "      <td>0</td>\n",
       "      <td>1</td>\n",
       "      <td>0</td>\n",
       "    </tr>\n",
       "    <tr>\n",
       "      <th>5</th>\n",
       "      <td>6</td>\n",
       "      <td>0</td>\n",
       "      <td>3</td>\n",
       "      <td>0</td>\n",
       "      <td>25.0</td>\n",
       "      <td>0</td>\n",
       "      <td>0</td>\n",
       "      <td>1</td>\n",
       "      <td>2</td>\n",
       "    </tr>\n",
       "    <tr>\n",
       "      <th>6</th>\n",
       "      <td>7</td>\n",
       "      <td>0</td>\n",
       "      <td>1</td>\n",
       "      <td>0</td>\n",
       "      <td>54.0</td>\n",
       "      <td>0</td>\n",
       "      <td>0</td>\n",
       "      <td>3</td>\n",
       "      <td>0</td>\n",
       "    </tr>\n",
       "    <tr>\n",
       "      <th>7</th>\n",
       "      <td>8</td>\n",
       "      <td>0</td>\n",
       "      <td>3</td>\n",
       "      <td>0</td>\n",
       "      <td>2.0</td>\n",
       "      <td>3</td>\n",
       "      <td>1</td>\n",
       "      <td>2</td>\n",
       "      <td>0</td>\n",
       "    </tr>\n",
       "    <tr>\n",
       "      <th>8</th>\n",
       "      <td>9</td>\n",
       "      <td>1</td>\n",
       "      <td>3</td>\n",
       "      <td>1</td>\n",
       "      <td>27.0</td>\n",
       "      <td>0</td>\n",
       "      <td>2</td>\n",
       "      <td>1</td>\n",
       "      <td>0</td>\n",
       "    </tr>\n",
       "    <tr>\n",
       "      <th>9</th>\n",
       "      <td>10</td>\n",
       "      <td>1</td>\n",
       "      <td>2</td>\n",
       "      <td>1</td>\n",
       "      <td>14.0</td>\n",
       "      <td>1</td>\n",
       "      <td>0</td>\n",
       "      <td>2</td>\n",
       "      <td>1</td>\n",
       "    </tr>\n",
       "  </tbody>\n",
       "</table>\n",
       "</div>"
      ],
      "text/plain": [
       "   PassengerId  Survived  Pclass  Sex   Age  SibSp  Parch  Fare  Embarked\n",
       "0            1         0       3    0  22.0      1      0     0         0\n",
       "1            2         1       1    1  38.0      1      0     3         1\n",
       "2            3         1       3    1  26.0      0      0     1         0\n",
       "3            4         1       1    1  35.0      1      0     3         0\n",
       "4            5         0       3    0  35.0      0      0     1         0\n",
       "5            6         0       3    0  25.0      0      0     1         2\n",
       "6            7         0       1    0  54.0      0      0     3         0\n",
       "7            8         0       3    0   2.0      3      1     2         0\n",
       "8            9         1       3    1  27.0      0      2     1         0\n",
       "9           10         1       2    1  14.0      1      0     2         1"
      ]
     },
     "execution_count": 28,
     "metadata": {},
     "output_type": "execute_result"
    }
   ],
   "source": [
    "combine = [train_df, test_df]\n",
    "\n",
    "for dataset in combine:\n",
    "    dataset.loc[ dataset['Fare'] <= 7.91, 'Fare'] = 0\n",
    "    dataset.loc[(dataset['Fare'] > 7.91) & (dataset['Fare'] <= 14.454), 'Fare'] = 1\n",
    "    dataset.loc[(dataset['Fare'] > 14.454) & (dataset['Fare'] <= 31), 'Fare']   = 2\n",
    "    dataset.loc[ dataset['Fare'] > 31, 'Fare'] = 3\n",
    "    dataset['Fare'] = dataset['Fare'].astype(int)\n",
    "\n",
    "   \n",
    "train_df.head(10)"
   ]
  },
  {
   "cell_type": "markdown",
   "id": "58fe602a",
   "metadata": {
    "papermill": {
     "duration": 0.015248,
     "end_time": "2025-03-07T19:13:26.658866",
     "exception": false,
     "start_time": "2025-03-07T19:13:26.643618",
     "status": "completed"
    },
    "tags": []
   },
   "source": [
    "# 6. Preselección de variables"
   ]
  },
  {
   "cell_type": "markdown",
   "id": "d1078dcd",
   "metadata": {
    "papermill": {
     "duration": 0.020231,
     "end_time": "2025-03-07T19:13:26.694823",
     "exception": false,
     "start_time": "2025-03-07T19:13:26.674592",
     "status": "completed"
    },
    "tags": []
   },
   "source": [
    "- Creamos una nueva variable llamada `Family Size` para sustituir `SibSp` y `Parch`\n",
    "- Eliminamos `PassengerId`, ya que no nos aporta nada"
   ]
  },
  {
   "cell_type": "code",
   "execution_count": 29,
   "id": "c761422c",
   "metadata": {
    "execution": {
     "iopub.execute_input": "2025-03-07T19:13:26.727223Z",
     "iopub.status.busy": "2025-03-07T19:13:26.726837Z",
     "iopub.status.idle": "2025-03-07T19:13:26.733408Z",
     "shell.execute_reply": "2025-03-07T19:13:26.732265Z"
    },
    "papermill": {
     "duration": 0.0249,
     "end_time": "2025-03-07T19:13:26.735372",
     "exception": false,
     "start_time": "2025-03-07T19:13:26.710472",
     "status": "completed"
    },
    "tags": []
   },
   "outputs": [],
   "source": [
    "train_df['FamilySize'] = train_df['SibSp'] + train_df['Parch'] + 1\n",
    "test_df['FamilySize'] = test_df['SibSp'] + test_df['Parch'] + 1"
   ]
  },
  {
   "cell_type": "code",
   "execution_count": 30,
   "id": "83b70621",
   "metadata": {
    "execution": {
     "iopub.execute_input": "2025-03-07T19:13:26.774433Z",
     "iopub.status.busy": "2025-03-07T19:13:26.773950Z",
     "iopub.status.idle": "2025-03-07T19:13:26.782301Z",
     "shell.execute_reply": "2025-03-07T19:13:26.781106Z"
    },
    "papermill": {
     "duration": 0.027605,
     "end_time": "2025-03-07T19:13:26.784869",
     "exception": false,
     "start_time": "2025-03-07T19:13:26.757264",
     "status": "completed"
    },
    "tags": []
   },
   "outputs": [],
   "source": [
    "train_df.drop(['SibSp', 'Parch'], axis=1, inplace=True)\n",
    "test_df.drop(['SibSp', 'Parch'], axis=1, inplace=True)"
   ]
  },
  {
   "cell_type": "code",
   "execution_count": 31,
   "id": "d7b7c18b",
   "metadata": {
    "execution": {
     "iopub.execute_input": "2025-03-07T19:13:26.833447Z",
     "iopub.status.busy": "2025-03-07T19:13:26.832868Z",
     "iopub.status.idle": "2025-03-07T19:13:26.841473Z",
     "shell.execute_reply": "2025-03-07T19:13:26.840269Z"
    },
    "papermill": {
     "duration": 0.033252,
     "end_time": "2025-03-07T19:13:26.843487",
     "exception": false,
     "start_time": "2025-03-07T19:13:26.810235",
     "status": "completed"
    },
    "tags": []
   },
   "outputs": [],
   "source": [
    "train_df.drop(['PassengerId'], axis=1, inplace=True)\n",
    "test_df.drop(['PassengerId'], axis=1, inplace=True)"
   ]
  },
  {
   "cell_type": "markdown",
   "id": "e0cfaf07",
   "metadata": {
    "papermill": {
     "duration": 0.015335,
     "end_time": "2025-03-07T19:13:26.874863",
     "exception": false,
     "start_time": "2025-03-07T19:13:26.859528",
     "status": "completed"
    },
    "tags": []
   },
   "source": [
    "# 7. Modelización"
   ]
  },
  {
   "cell_type": "markdown",
   "id": "4004374c",
   "metadata": {
    "papermill": {
     "duration": 0.01815,
     "end_time": "2025-03-07T19:13:26.908808",
     "exception": false,
     "start_time": "2025-03-07T19:13:26.890658",
     "status": "completed"
    },
    "tags": []
   },
   "source": [
    "## 7.1. Hiperparametrización"
   ]
  },
  {
   "cell_type": "markdown",
   "id": "d32f9673",
   "metadata": {
    "papermill": {
     "duration": 0.019991,
     "end_time": "2025-03-07T19:13:26.950406",
     "exception": false,
     "start_time": "2025-03-07T19:13:26.930415",
     "status": "completed"
    },
    "tags": []
   },
   "source": [
    "- Decidí probar el parámetro `max_depth` como parte del proceso de optimización de hiperparámetros, aunque no considero que sea estrictamente necesario.\n",
    "- La idea detrás de probar este parámetro fue explorar cómo la profundidad máxima del árbol de decisión podría influir en el rendimiento del modelo."
   ]
  },
  {
   "cell_type": "code",
   "execution_count": 32,
   "id": "2af146d3",
   "metadata": {
    "execution": {
     "iopub.execute_input": "2025-03-07T19:13:26.983399Z",
     "iopub.status.busy": "2025-03-07T19:13:26.983046Z",
     "iopub.status.idle": "2025-03-07T19:13:26.988754Z",
     "shell.execute_reply": "2025-03-07T19:13:26.987648Z"
    },
    "papermill": {
     "duration": 0.024201,
     "end_time": "2025-03-07T19:13:26.990564",
     "exception": false,
     "start_time": "2025-03-07T19:13:26.966363",
     "status": "completed"
    },
    "tags": []
   },
   "outputs": [],
   "source": [
    "X = train_df.drop(columns='Survived')\n",
    "y = train_df['Survived']"
   ]
  },
  {
   "cell_type": "code",
   "execution_count": 33,
   "id": "318fd934",
   "metadata": {
    "execution": {
     "iopub.execute_input": "2025-03-07T19:13:27.023655Z",
     "iopub.status.busy": "2025-03-07T19:13:27.023186Z",
     "iopub.status.idle": "2025-03-07T19:13:27.028128Z",
     "shell.execute_reply": "2025-03-07T19:13:27.027007Z"
    },
    "papermill": {
     "duration": 0.023698,
     "end_time": "2025-03-07T19:13:27.030067",
     "exception": false,
     "start_time": "2025-03-07T19:13:27.006369",
     "status": "completed"
    },
    "tags": []
   },
   "outputs": [],
   "source": [
    "algoritmo = RandomForestClassifier()"
   ]
  },
  {
   "cell_type": "code",
   "execution_count": 34,
   "id": "a59d3c0a",
   "metadata": {
    "execution": {
     "iopub.execute_input": "2025-03-07T19:13:27.063025Z",
     "iopub.status.busy": "2025-03-07T19:13:27.062530Z",
     "iopub.status.idle": "2025-03-07T19:13:27.067113Z",
     "shell.execute_reply": "2025-03-07T19:13:27.066100Z"
    },
    "papermill": {
     "duration": 0.022896,
     "end_time": "2025-03-07T19:13:27.068750",
     "exception": false,
     "start_time": "2025-03-07T19:13:27.045854",
     "status": "completed"
    },
    "tags": []
   },
   "outputs": [],
   "source": [
    "parametro = 'max_depth'"
   ]
  },
  {
   "cell_type": "code",
   "execution_count": 35,
   "id": "b0c91dd9",
   "metadata": {
    "execution": {
     "iopub.execute_input": "2025-03-07T19:13:27.101615Z",
     "iopub.status.busy": "2025-03-07T19:13:27.101115Z",
     "iopub.status.idle": "2025-03-07T19:13:27.106209Z",
     "shell.execute_reply": "2025-03-07T19:13:27.105104Z"
    },
    "papermill": {
     "duration": 0.02361,
     "end_time": "2025-03-07T19:13:27.108115",
     "exception": false,
     "start_time": "2025-03-07T19:13:27.084505",
     "status": "completed"
    },
    "tags": []
   },
   "outputs": [],
   "source": [
    "rango = np.arange(3,8)"
   ]
  },
  {
   "cell_type": "code",
   "execution_count": 36,
   "id": "a56b9b22",
   "metadata": {
    "execution": {
     "iopub.execute_input": "2025-03-07T19:13:27.140896Z",
     "iopub.status.busy": "2025-03-07T19:13:27.140391Z",
     "iopub.status.idle": "2025-03-07T19:13:27.145300Z",
     "shell.execute_reply": "2025-03-07T19:13:27.144189Z"
    },
    "papermill": {
     "duration": 0.023495,
     "end_time": "2025-03-07T19:13:27.147244",
     "exception": false,
     "start_time": "2025-03-07T19:13:27.123749",
     "status": "completed"
    },
    "tags": []
   },
   "outputs": [],
   "source": [
    "from sklearn.model_selection import validation_curve"
   ]
  },
  {
   "cell_type": "code",
   "execution_count": 37,
   "id": "dc368702",
   "metadata": {
    "execution": {
     "iopub.execute_input": "2025-03-07T19:13:27.198824Z",
     "iopub.status.busy": "2025-03-07T19:13:27.198356Z",
     "iopub.status.idle": "2025-03-07T19:13:29.948332Z",
     "shell.execute_reply": "2025-03-07T19:13:29.946898Z"
    },
    "papermill": {
     "duration": 2.778839,
     "end_time": "2025-03-07T19:13:29.950264",
     "exception": false,
     "start_time": "2025-03-07T19:13:27.171425",
     "status": "completed"
    },
    "tags": []
   },
   "outputs": [
    {
     "name": "stdout",
     "output_type": "stream",
     "text": [
      "[CV] END .....max_depth=3;, score=(train=-0.152, test=-0.195) total time=   0.2s\n",
      "[CV] END .....max_depth=4;, score=(train=-0.146, test=-0.192) total time=   0.2s\n",
      "[CV] END .....max_depth=5;, score=(train=-0.123, test=-0.195) total time=   0.2s\n",
      "[CV] END .....max_depth=6;, score=(train=-0.108, test=-0.195) total time=   0.2s\n",
      "[CV] END .....max_depth=7;, score=(train=-0.094, test=-0.209) total time=   0.2s\n",
      "[CV] END .....max_depth=3;, score=(train=-0.180, test=-0.175) total time=   0.2s\n",
      "[CV] END .....max_depth=4;, score=(train=-0.163, test=-0.182) total time=   0.2s\n",
      "[CV] END .....max_depth=5;, score=(train=-0.152, test=-0.178) total time=   0.2s\n",
      "[CV] END .....max_depth=6;, score=(train=-0.133, test=-0.165) total time=   0.2s\n",
      "[CV] END .....max_depth=7;, score=(train=-0.109, test=-0.168) total time=   0.2s\n",
      "[CV] END .....max_depth=3;, score=(train=-0.163, test=-0.189) total time=   0.2s\n",
      "[CV] END .....max_depth=4;, score=(train=-0.157, test=-0.182) total time=   0.2s\n",
      "[CV] END .....max_depth=5;, score=(train=-0.141, test=-0.175) total time=   0.2s\n",
      "[CV] END .....max_depth=6;, score=(train=-0.126, test=-0.175) total time=   0.2s\n",
      "[CV] END .....max_depth=7;, score=(train=-0.109, test=-0.182) total time=   0.2s\n"
     ]
    }
   ],
   "source": [
    "train_scores, test_scores = validation_curve(\n",
    "                                estimator = algoritmo,\n",
    "                                X = X,\n",
    "                                y = y,\n",
    "                                param_name = parametro,\n",
    "                                param_range = rango,\n",
    "                                cv = 3,\n",
    "                                scoring = 'neg_mean_absolute_error',\n",
    "                                n_jobs = 1,\n",
    "                                verbose = 3)"
   ]
  },
  {
   "cell_type": "code",
   "execution_count": 38,
   "id": "4a63f04a",
   "metadata": {
    "execution": {
     "iopub.execute_input": "2025-03-07T19:13:29.985979Z",
     "iopub.status.busy": "2025-03-07T19:13:29.985577Z",
     "iopub.status.idle": "2025-03-07T19:13:29.992192Z",
     "shell.execute_reply": "2025-03-07T19:13:29.991077Z"
    },
    "papermill": {
     "duration": 0.02501,
     "end_time": "2025-03-07T19:13:29.993856",
     "exception": false,
     "start_time": "2025-03-07T19:13:29.968846",
     "status": "completed"
    },
    "tags": []
   },
   "outputs": [
    {
     "data": {
      "text/plain": [
       "array([[-0.1952862 , -0.17508418, -0.18855219],\n",
       "       [-0.19191919, -0.18181818, -0.18181818],\n",
       "       [-0.1952862 , -0.17845118, -0.17508418],\n",
       "       [-0.1952862 , -0.16498316, -0.17508418],\n",
       "       [-0.20875421, -0.16835017, -0.18181818]])"
      ]
     },
     "execution_count": 38,
     "metadata": {},
     "output_type": "execute_result"
    }
   ],
   "source": [
    "test_scores"
   ]
  },
  {
   "cell_type": "code",
   "execution_count": 39,
   "id": "9dde57f6",
   "metadata": {
    "execution": {
     "iopub.execute_input": "2025-03-07T19:13:30.026894Z",
     "iopub.status.busy": "2025-03-07T19:13:30.026512Z",
     "iopub.status.idle": "2025-03-07T19:13:30.031195Z",
     "shell.execute_reply": "2025-03-07T19:13:30.030290Z"
    },
    "papermill": {
     "duration": 0.023082,
     "end_time": "2025-03-07T19:13:30.032874",
     "exception": false,
     "start_time": "2025-03-07T19:13:30.009792",
     "status": "completed"
    },
    "tags": []
   },
   "outputs": [],
   "source": [
    "df_resultados = pd.DataFrame({'Resultado': np.mean(test_scores, axis = 1)}, index = rango)"
   ]
  },
  {
   "cell_type": "code",
   "execution_count": 40,
   "id": "51ca33b0",
   "metadata": {
    "execution": {
     "iopub.execute_input": "2025-03-07T19:13:30.065714Z",
     "iopub.status.busy": "2025-03-07T19:13:30.065328Z",
     "iopub.status.idle": "2025-03-07T19:13:30.073374Z",
     "shell.execute_reply": "2025-03-07T19:13:30.072460Z"
    },
    "papermill": {
     "duration": 0.026265,
     "end_time": "2025-03-07T19:13:30.075052",
     "exception": false,
     "start_time": "2025-03-07T19:13:30.048787",
     "status": "completed"
    },
    "tags": []
   },
   "outputs": [
    {
     "data": {
      "text/html": [
       "<div>\n",
       "<style scoped>\n",
       "    .dataframe tbody tr th:only-of-type {\n",
       "        vertical-align: middle;\n",
       "    }\n",
       "\n",
       "    .dataframe tbody tr th {\n",
       "        vertical-align: top;\n",
       "    }\n",
       "\n",
       "    .dataframe thead th {\n",
       "        text-align: right;\n",
       "    }\n",
       "</style>\n",
       "<table border=\"1\" class=\"dataframe\">\n",
       "  <thead>\n",
       "    <tr style=\"text-align: right;\">\n",
       "      <th></th>\n",
       "      <th>Resultado</th>\n",
       "    </tr>\n",
       "  </thead>\n",
       "  <tbody>\n",
       "    <tr>\n",
       "      <th>3</th>\n",
       "      <td>-0.186308</td>\n",
       "    </tr>\n",
       "    <tr>\n",
       "      <th>4</th>\n",
       "      <td>-0.185185</td>\n",
       "    </tr>\n",
       "    <tr>\n",
       "      <th>5</th>\n",
       "      <td>-0.182941</td>\n",
       "    </tr>\n",
       "    <tr>\n",
       "      <th>6</th>\n",
       "      <td>-0.178451</td>\n",
       "    </tr>\n",
       "    <tr>\n",
       "      <th>7</th>\n",
       "      <td>-0.186308</td>\n",
       "    </tr>\n",
       "  </tbody>\n",
       "</table>\n",
       "</div>"
      ],
      "text/plain": [
       "   Resultado\n",
       "3  -0.186308\n",
       "4  -0.185185\n",
       "5  -0.182941\n",
       "6  -0.178451\n",
       "7  -0.186308"
      ]
     },
     "execution_count": 40,
     "metadata": {},
     "output_type": "execute_result"
    }
   ],
   "source": [
    "df_resultados"
   ]
  },
  {
   "cell_type": "code",
   "execution_count": 41,
   "id": "7dc7dc29",
   "metadata": {
    "execution": {
     "iopub.execute_input": "2025-03-07T19:13:30.108095Z",
     "iopub.status.busy": "2025-03-07T19:13:30.107700Z",
     "iopub.status.idle": "2025-03-07T19:13:30.112107Z",
     "shell.execute_reply": "2025-03-07T19:13:30.111075Z"
    },
    "papermill": {
     "duration": 0.022721,
     "end_time": "2025-03-07T19:13:30.113822",
     "exception": false,
     "start_time": "2025-03-07T19:13:30.091101",
     "status": "completed"
    },
    "tags": []
   },
   "outputs": [],
   "source": [
    "scores = df_resultados['Resultado']"
   ]
  },
  {
   "cell_type": "code",
   "execution_count": 42,
   "id": "f0bd73ba",
   "metadata": {
    "execution": {
     "iopub.execute_input": "2025-03-07T19:13:30.146811Z",
     "iopub.status.busy": "2025-03-07T19:13:30.146471Z",
     "iopub.status.idle": "2025-03-07T19:13:30.387366Z",
     "shell.execute_reply": "2025-03-07T19:13:30.386360Z"
    },
    "papermill": {
     "duration": 0.259145,
     "end_time": "2025-03-07T19:13:30.388853",
     "exception": false,
     "start_time": "2025-03-07T19:13:30.129708",
     "status": "completed"
    },
    "tags": []
   },
   "outputs": [
    {
     "data": {
      "image/png": "[encoded data removed]",
      "text/plain": [
       "<Figure size 800x600 with 1 Axes>"
      ]
     },
     "metadata": {},
     "output_type": "display_data"
    }
   ],
   "source": [
    "# Ajuste sobre el rango usado\n",
    "param_range = np.arange(3, 8)\n",
    "\n",
    "# Crear el gráfico\n",
    "plt.figure(figsize=(8, 6))\n",
    "plt.plot(param_range, scores, marker='o', linestyle='-', color='b', label='Puntuación de validación')\n",
    "\n",
    "# Personalizar el gráfico\n",
    "plt.title('Impacto de max_depth en el rendimiento del modelo')\n",
    "plt.xlabel('max_depth')\n",
    "plt.ylabel('Puntuación (neg_mean_absolute_error)')\n",
    "plt.grid(True, linestyle='--', alpha=0.7)\n",
    "plt.xticks(param_range)  # Asegura que las etiquetas del eje X sean los valores numéricos correctos\n",
    "plt.legend()\n",
    "\n",
    "# Mostrar el gráfico\n",
    "plt.show()"
   ]
  },
  {
   "cell_type": "markdown",
   "id": "d7df52b2",
   "metadata": {
    "papermill": {
     "duration": 0.016884,
     "end_time": "2025-03-07T19:13:30.424086",
     "exception": false,
     "start_time": "2025-03-07T19:13:30.407202",
     "status": "completed"
    },
    "tags": []
   },
   "source": [
    "## 7.2. Ejecución del modelo"
   ]
  },
  {
   "cell_type": "markdown",
   "id": "d485292c",
   "metadata": {
    "papermill": {
     "duration": 0.019004,
     "end_time": "2025-03-07T19:13:30.459896",
     "exception": false,
     "start_time": "2025-03-07T19:13:30.440892",
     "status": "completed"
    },
    "tags": []
   },
   "source": [
    "Usamos `RandomForestClassifier`, un algoritmo de ensamble basado en árboles de decisión, que es robusto ante valores atípicos y permite evaluar la importancia de cada variable.  \n",
    "\n",
    "**Pasos:**  \n",
    "1. Separamos las variables predictoras (`X`) y la variable objetivo (`y`).  \n",
    "2. Dividimos los datos en entrenamiento y validación para evaluar el desempeño del modelo.  \n",
    "3. Entrenamos un `RandomForestClassifier` con hiperparámetros predeterminados.  \n",
    "4. Evaluamos la precisión del modelo y analizamos la importancia de las características.  \n",
    "\n",
    "Este modelo nos permitirá obtener una predicción sobre los pasajeros que probablemente sobrevivieron.  "
   ]
  },
  {
   "cell_type": "code",
   "execution_count": 43,
   "id": "49e060f9",
   "metadata": {
    "execution": {
     "iopub.execute_input": "2025-03-07T19:13:30.495839Z",
     "iopub.status.busy": "2025-03-07T19:13:30.495428Z",
     "iopub.status.idle": "2025-03-07T19:13:30.502782Z",
     "shell.execute_reply": "2025-03-07T19:13:30.501816Z"
    },
    "papermill": {
     "duration": 0.027274,
     "end_time": "2025-03-07T19:13:30.504470",
     "exception": false,
     "start_time": "2025-03-07T19:13:30.477196",
     "status": "completed"
    },
    "tags": []
   },
   "outputs": [],
   "source": [
    "from sklearn.model_selection import train_test_split\n",
    "\n",
    "X_train, X_test, y_train, y_test = train_test_split(X, y, test_size=0.25, random_state=42)"
   ]
  },
  {
   "cell_type": "code",
   "execution_count": 44,
   "id": "d31db007",
   "metadata": {
    "execution": {
     "iopub.execute_input": "2025-03-07T19:13:30.540070Z",
     "iopub.status.busy": "2025-03-07T19:13:30.539683Z",
     "iopub.status.idle": "2025-03-07T19:13:30.544387Z",
     "shell.execute_reply": "2025-03-07T19:13:30.543191Z"
    },
    "papermill": {
     "duration": 0.024694,
     "end_time": "2025-03-07T19:13:30.546338",
     "exception": false,
     "start_time": "2025-03-07T19:13:30.521644",
     "status": "completed"
    },
    "tags": []
   },
   "outputs": [],
   "source": [
    "rf_model = RandomForestClassifier(n_estimators=100,\n",
    "                                  max_depth=5,\n",
    "                                  random_state=42,\n",
    "                                  n_jobs=-1)\n"
   ]
  },
  {
   "cell_type": "code",
   "execution_count": 45,
   "id": "fcd1aa2e",
   "metadata": {
    "execution": {
     "iopub.execute_input": "2025-03-07T19:13:30.581771Z",
     "iopub.status.busy": "2025-03-07T19:13:30.581430Z",
     "iopub.status.idle": "2025-03-07T19:13:30.892201Z",
     "shell.execute_reply": "2025-03-07T19:13:30.891115Z"
    },
    "papermill": {
     "duration": 0.330389,
     "end_time": "2025-03-07T19:13:30.893887",
     "exception": false,
     "start_time": "2025-03-07T19:13:30.563498",
     "status": "completed"
    },
    "tags": []
   },
   "outputs": [
    {
     "data": {
      "text/html": [
       "<style>#sk-container-id-1 {color: black;background-color: white;}#sk-container-id-1 pre{padding: 0;}#sk-container-id-1 div.sk-toggleable {background-color: white;}#sk-container-id-1 label.sk-toggleable__label {cursor: pointer;display: block;width: 100%;margin-bottom: 0;padding: 0.3em;box-sizing: border-box;text-align: center;}#sk-container-id-1 label.sk-toggleable__label-arrow:before {content: \"▸\";float: left;margin-right: 0.25em;color: #696969;}#sk-container-id-1 label.sk-toggleable__label-arrow:hover:before {color: black;}#sk-container-id-1 div.sk-estimator:hover label.sk-toggleable__label-arrow:before {color: black;}#sk-container-id-1 div.sk-toggleable__content {max-height: 0;max-width: 0;overflow: hidden;text-align: left;background-color: #f0f8ff;}#sk-container-id-1 div.sk-toggleable__content pre {margin: 0.2em;color: black;border-radius: 0.25em;background-color: #f0f8ff;}#sk-container-id-1 input.sk-toggleable__control:checked~div.sk-toggleable__content {max-height: 200px;max-width: 100%;overflow: auto;}#sk-container-id-1 input.sk-toggleable__control:checked~label.sk-toggleable__label-arrow:before {content: \"▾\";}#sk-container-id-1 div.sk-estimator input.sk-toggleable__control:checked~label.sk-toggleable__label {background-color: #d4ebff;}#sk-container-id-1 div.sk-label input.sk-toggleable__control:checked~label.sk-toggleable__label {background-color: #d4ebff;}#sk-container-id-1 input.sk-hidden--visually {border: 0;clip: rect(1px 1px 1px 1px);clip: rect(1px, 1px, 1px, 1px);height: 1px;margin: -1px;overflow: hidden;padding: 0;position: absolute;width: 1px;}#sk-container-id-1 div.sk-estimator {font-family: monospace;background-color: #f0f8ff;border: 1px dotted black;border-radius: 0.25em;box-sizing: border-box;margin-bottom: 0.5em;}#sk-container-id-1 div.sk-estimator:hover {background-color: #d4ebff;}#sk-container-id-1 div.sk-parallel-item::after {content: \"\";width: 100%;border-bottom: 1px solid gray;flex-grow: 1;}#sk-container-id-1 div.sk-label:hover label.sk-toggleable__label {background-color: #d4ebff;}#sk-container-id-1 div.sk-serial::before {content: \"\";position: absolute;border-left: 1px solid gray;box-sizing: border-box;top: 0;bottom: 0;left: 50%;z-index: 0;}#sk-container-id-1 div.sk-serial {display: flex;flex-direction: column;align-items: center;background-color: white;padding-right: 0.2em;padding-left: 0.2em;position: relative;}#sk-container-id-1 div.sk-item {position: relative;z-index: 1;}#sk-container-id-1 div.sk-parallel {display: flex;align-items: stretch;justify-content: center;background-color: white;position: relative;}#sk-container-id-1 div.sk-item::before, #sk-container-id-1 div.sk-parallel-item::before {content: \"\";position: absolute;border-left: 1px solid gray;box-sizing: border-box;top: 0;bottom: 0;left: 50%;z-index: -1;}#sk-container-id-1 div.sk-parallel-item {display: flex;flex-direction: column;z-index: 1;position: relative;background-color: white;}#sk-container-id-1 div.sk-parallel-item:first-child::after {align-self: flex-end;width: 50%;}#sk-container-id-1 div.sk-parallel-item:last-child::after {align-self: flex-start;width: 50%;}#sk-container-id-1 div.sk-parallel-item:only-child::after {width: 0;}#sk-container-id-1 div.sk-dashed-wrapped {border: 1px dashed gray;margin: 0 0.4em 0.5em 0.4em;box-sizing: border-box;padding-bottom: 0.4em;background-color: white;}#sk-container-id-1 div.sk-label label {font-family: monospace;font-weight: bold;display: inline-block;line-height: 1.2em;}#sk-container-id-1 div.sk-label-container {text-align: center;}#sk-container-id-1 div.sk-container {/* jupyter's `normalize.less` sets `[hidden] { display: none; }` but bootstrap.min.css set `[hidden] { display: none !important; }` so we also need the `!important` here to be able to override the default hidden behavior on the sphinx rendered scikit-learn.org. See: https://github.com/scikit-learn/scikit-learn/issues/21755 */display: inline-block !important;position: relative;}#sk-container-id-1 div.sk-text-repr-fallback {display: none;}</style><div id=\"sk-container-id-1\" class=\"sk-top-container\"><div class=\"sk-text-repr-fallback\"><pre>RandomForestClassifier(max_depth=5, n_jobs=-1, random_state=42)</pre><b>In a Jupyter environment, please rerun this cell to show the HTML representation or trust the notebook. <br />On GitHub, the HTML representation is unable to render, please try loading this page with nbviewer.org.</b></div><div class=\"sk-container\" hidden><div class=\"sk-item\"><div class=\"sk-estimator sk-toggleable\"><input class=\"sk-toggleable__control sk-hidden--visually\" id=\"sk-estimator-id-1\" type=\"checkbox\" checked><label for=\"sk-estimator-id-1\" class=\"sk-toggleable__label sk-toggleable__label-arrow\">RandomForestClassifier</label><div class=\"sk-toggleable__content\"><pre>RandomForestClassifier(max_depth=5, n_jobs=-1, random_state=42)</pre></div></div></div></div></div>"
      ],
      "text/plain": [
       "RandomForestClassifier(max_depth=5, n_jobs=-1, random_state=42)"
      ]
     },
     "execution_count": 45,
     "metadata": {},
     "output_type": "execute_result"
    }
   ],
   "source": [
    "rf_model.fit(X_train, y_train)"
   ]
  },
  {
   "cell_type": "markdown",
   "id": "4108ce6e",
   "metadata": {
    "papermill": {
     "duration": 0.021395,
     "end_time": "2025-03-07T19:13:30.933897",
     "exception": false,
     "start_time": "2025-03-07T19:13:30.912502",
     "status": "completed"
    },
    "tags": []
   },
   "source": [
    "# 7.3. Predicciones"
   ]
  },
  {
   "cell_type": "code",
   "execution_count": 46,
   "id": "0f00b512",
   "metadata": {
    "execution": {
     "iopub.execute_input": "2025-03-07T19:13:30.970154Z",
     "iopub.status.busy": "2025-03-07T19:13:30.969717Z",
     "iopub.status.idle": "2025-03-07T19:13:31.013172Z",
     "shell.execute_reply": "2025-03-07T19:13:31.012074Z"
    },
    "papermill": {
     "duration": 0.063762,
     "end_time": "2025-03-07T19:13:31.015120",
     "exception": false,
     "start_time": "2025-03-07T19:13:30.951358",
     "status": "completed"
    },
    "tags": []
   },
   "outputs": [],
   "source": [
    "y_pred = rf_model.predict(X_test)"
   ]
  },
  {
   "cell_type": "code",
   "execution_count": 47,
   "id": "b5879567",
   "metadata": {
    "execution": {
     "iopub.execute_input": "2025-03-07T19:13:31.051538Z",
     "iopub.status.busy": "2025-03-07T19:13:31.051190Z",
     "iopub.status.idle": "2025-03-07T19:13:31.055219Z",
     "shell.execute_reply": "2025-03-07T19:13:31.054292Z"
    },
    "papermill": {
     "duration": 0.023847,
     "end_time": "2025-03-07T19:13:31.056743",
     "exception": false,
     "start_time": "2025-03-07T19:13:31.032896",
     "status": "completed"
    },
    "tags": []
   },
   "outputs": [],
   "source": [
    "from sklearn.metrics import accuracy_score"
   ]
  },
  {
   "cell_type": "code",
   "execution_count": 48,
   "id": "1ad4ddd5",
   "metadata": {
    "execution": {
     "iopub.execute_input": "2025-03-07T19:13:31.093077Z",
     "iopub.status.busy": "2025-03-07T19:13:31.092679Z",
     "iopub.status.idle": "2025-03-07T19:13:31.100156Z",
     "shell.execute_reply": "2025-03-07T19:13:31.099059Z"
    },
    "papermill": {
     "duration": 0.027511,
     "end_time": "2025-03-07T19:13:31.101811",
     "exception": false,
     "start_time": "2025-03-07T19:13:31.074300",
     "status": "completed"
    },
    "tags": []
   },
   "outputs": [
    {
     "name": "stdout",
     "output_type": "stream",
     "text": [
      "Accuracy: 0.820627802690583\n"
     ]
    }
   ],
   "source": [
    "accuracy = accuracy_score(y_test, y_pred)\n",
    "print(\"Accuracy:\", accuracy)"
   ]
  },
  {
   "cell_type": "markdown",
   "id": "3b46c82f",
   "metadata": {
    "papermill": {
     "duration": 0.017402,
     "end_time": "2025-03-07T19:13:31.137024",
     "exception": false,
     "start_time": "2025-03-07T19:13:31.119622",
     "status": "completed"
    },
    "tags": []
   },
   "source": [
    "# 8. Submission "
   ]
  },
  {
   "cell_type": "markdown",
   "id": "370673a7",
   "metadata": {
    "papermill": {
     "duration": 0.017202,
     "end_time": "2025-03-07T19:13:31.171725",
     "exception": false,
     "start_time": "2025-03-07T19:13:31.154523",
     "status": "completed"
    },
    "tags": []
   },
   "source": [
    "- Recuperamos **PassengerId** para enviarlo la competición.\n",
    "- Transformamos **Survived** a tipo entero.\n"
   ]
  },
  {
   "cell_type": "code",
   "execution_count": 49,
   "id": "d57753a6",
   "metadata": {
    "execution": {
     "iopub.execute_input": "2025-03-07T19:13:31.207880Z",
     "iopub.status.busy": "2025-03-07T19:13:31.207536Z",
     "iopub.status.idle": "2025-03-07T19:13:31.259896Z",
     "shell.execute_reply": "2025-03-07T19:13:31.258965Z"
    },
    "papermill": {
     "duration": 0.072631,
     "end_time": "2025-03-07T19:13:31.261714",
     "exception": false,
     "start_time": "2025-03-07T19:13:31.189083",
     "status": "completed"
    },
    "tags": []
   },
   "outputs": [],
   "source": [
    "predictions = rf_model.predict(test_df)\n",
    "predictions = predictions.astype(int)"
   ]
  },
  {
   "cell_type": "code",
   "execution_count": 50,
   "id": "942b0d42",
   "metadata": {
    "execution": {
     "iopub.execute_input": "2025-03-07T19:13:31.299297Z",
     "iopub.status.busy": "2025-03-07T19:13:31.298901Z",
     "iopub.status.idle": "2025-03-07T19:13:31.308544Z",
     "shell.execute_reply": "2025-03-07T19:13:31.307641Z"
    },
    "papermill": {
     "duration": 0.03034,
     "end_time": "2025-03-07T19:13:31.310348",
     "exception": false,
     "start_time": "2025-03-07T19:13:31.280008",
     "status": "completed"
    },
    "tags": []
   },
   "outputs": [],
   "source": [
    "Passenger = pd.read_csv('../input/titanic/test.csv')"
   ]
  },
  {
   "cell_type": "code",
   "execution_count": 51,
   "id": "e28fb6a5",
   "metadata": {
    "execution": {
     "iopub.execute_input": "2025-03-07T19:13:31.346809Z",
     "iopub.status.busy": "2025-03-07T19:13:31.346408Z",
     "iopub.status.idle": "2025-03-07T19:13:31.351351Z",
     "shell.execute_reply": "2025-03-07T19:13:31.350275Z"
    },
    "papermill": {
     "duration": 0.025268,
     "end_time": "2025-03-07T19:13:31.353138",
     "exception": false,
     "start_time": "2025-03-07T19:13:31.327870",
     "status": "completed"
    },
    "tags": []
   },
   "outputs": [],
   "source": [
    "output = pd.DataFrame({\n",
    "    'PassengerId': Passenger['PassengerId'],\n",
    "    'Survived': predictions\n",
    "})"
   ]
  },
  {
   "cell_type": "code",
   "execution_count": 52,
   "id": "7b303e2f",
   "metadata": {
    "execution": {
     "iopub.execute_input": "2025-03-07T19:13:31.390176Z",
     "iopub.status.busy": "2025-03-07T19:13:31.389785Z",
     "iopub.status.idle": "2025-03-07T19:13:31.399695Z",
     "shell.execute_reply": "2025-03-07T19:13:31.398644Z"
    },
    "papermill": {
     "duration": 0.030415,
     "end_time": "2025-03-07T19:13:31.401785",
     "exception": false,
     "start_time": "2025-03-07T19:13:31.371370",
     "status": "completed"
    },
    "tags": []
   },
   "outputs": [],
   "source": [
    "output.to_csv('submission.csv', index=False)"
   ]
  }
 ],
 "metadata": {
  "kaggle": {
   "accelerator": "none",
   "dataSources": [
    {
     "databundleVersionId": 26502,
     "sourceId": 3136,
     "sourceType": "competition"
    }
   ],
   "dockerImageVersionId": 30918,
   "isGpuEnabled": false,
   "isInternetEnabled": false,
   "language": "python",
   "sourceType": "notebook"
  },
  "kernelspec": {
   "display_name": "Python 3",
   "language": "python",
   "name": "python3"
  },
  "language_info": {
   "codemirror_mode": {
    "name": "ipython",
    "version": 3
   },
   "file_extension": ".py",
   "mimetype": "text/x-python",
   "name": "python",
   "nbconvert_exporter": "python",
   "pygments_lexer": "ipython3",
   "version": "3.10.12"
  },
  "papermill": {
   "default_parameters": {},
   "duration": 14.455997,
   "end_time": "2025-03-07T19:13:32.242612",
   "environment_variables": {},
   "exception": null,
   "input_path": "__notebook__.ipynb",
   "output_path": "__notebook__.ipynb",
   "parameters": {},
   "start_time": "2025-03-07T19:13:17.786615",
   "version": "2.6.0"
  }
 },
 "nbformat": 4,
 "nbformat_minor": 5
}
